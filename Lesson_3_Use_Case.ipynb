{
  "cells": [
    {
      "cell_type": "code",
      "execution_count": 1,
      "metadata": {
        "id": "VwhFMM9-4eNI"
      },
      "outputs": [],
      "source": [
        "# Import libraries\n",
        "import numpy as np\n",
        "import matplotlib.pyplot as plt\n",
        "import pandas as pd\n",
        "import statistics\n",
        "import seaborn as sns\n",
        "\n",
        "# Import specific libraries for map plots\n",
        "import folium\n",
        "import plotly.express as px\n",
        "\n",
        "# Connect to our Google drive account\n",
        "#from google.colab import drive\n",
        "#drive.mount('/content/drive')\n",
        "\n",
        "# Import the datasets as pandas dataframes\n",
        "#airports_df = pd.read_csv('/content/drive/MyDrive/Colab Notebooks/GSOM_Pirelli_2023/airports.csv', delimiter=\",\",header=0) # Header=0 means that the first row will be used as header for the dataset\n",
        "#flights_df = pd.read_csv('/content/drive/MyDrive/Colab Notebooks/GSOM_Pirelli_2023/Flights_Jan_cropped.csv', delimiter=\",\", header=0)\n",
        "\n",
        "airports_df = pd.read_csv('airports.csv', delimiter=\",\",header=0) # Header=0 means that the first row will be used as header for the dataset\n",
        "flights_df = pd.read_csv('Flights_Jan_cropped.csv', delimiter=\",\", header=0)"
      ]
    },
    {
      "cell_type": "markdown",
      "metadata": {
        "id": "mbGtSG5L67m9"
      },
      "source": [
        "# **Check what I've imported**"
      ]
    },
    {
      "cell_type": "code",
      "execution_count": null,
      "metadata": {
        "id": "XOxJqEpT62Iv"
      },
      "outputs": [],
      "source": [
        "# AIRPORTS dataset - Verify that the dataset has been imported properly\n",
        "airports_df.head()"
      ]
    },
    {
      "cell_type": "code",
      "execution_count": null,
      "metadata": {
        "id": "bg9BLFsW7ehS"
      },
      "outputs": [],
      "source": [
        "airports_df.describe()"
      ]
    },
    {
      "cell_type": "code",
      "execution_count": null,
      "metadata": {
        "id": "qcCSuU9o7Y20"
      },
      "outputs": [],
      "source": [
        "# Flights dataset - Verify that the dataset has been imported properly\n",
        "flights_df.head()"
      ]
    },
    {
      "cell_type": "code",
      "execution_count": null,
      "metadata": {
        "id": "ZMbi_pcD7kaa"
      },
      "outputs": [],
      "source": [
        "flights_df.describe()"
      ]
    },
    {
      "cell_type": "code",
      "execution_count": null,
      "metadata": {
        "id": "r0PICx_58KDJ"
      },
      "outputs": [],
      "source": [
        "# NaN removal (not mandatory)\n",
        "flights_df = flights_df.dropna().reset_index(drop=True)\n",
        "flights_df.describe()"
      ]
    },
    {
      "cell_type": "markdown",
      "metadata": {
        "id": "IYdLKzY99p3b"
      },
      "source": [
        "# 1.1 Plot all the airports on a geographic map\n"
      ]
    },
    {
      "cell_type": "code",
      "execution_count": null,
      "metadata": {
        "id": "ChYUyOnv9pKx"
      },
      "outputs": [],
      "source": [
        "# Documentation Folium library: https://python-visualization.github.io/folium/\n",
        "\n",
        "# Creation of the map\n",
        "map = folium.Map()\n",
        "\n",
        "# Create the markers on the map\n",
        "for index, row in airports_df.iterrows():\n",
        "    visualization_string = row['AIRPORT'] + '('+row['DISPLAY_AIRPORT_CITY_NAME_FULL']+')'\n",
        "    folium.Marker(location=[row['LATITUDE'], row['LONGITUDE']], popup= visualization_string , icon=folium.Icon(color='blue', icon='plane')).add_to(map)\n",
        "\n",
        "# Show the map\n",
        "map\n"
      ]
    },
    {
      "cell_type": "markdown",
      "metadata": {
        "id": "k62YK-y0Hjp8"
      },
      "source": [
        "# 1.2 Plot and analyze the distance of the flights\n"
      ]
    },
    {
      "cell_type": "code",
      "execution_count": null,
      "metadata": {
        "id": "jxDr-K-HEJQ9"
      },
      "outputs": [],
      "source": [
        "fig, ax = plt.subplots(figsize=(20, 10))\n",
        "plt.hist(flights_df['DISTANCE'], bins=100, color='lightgrey', edgecolor='grey', linewidth=0.2)\n",
        "ax.set_xlabel('Distance (mi)', fontsize=20)\n",
        "ax.set_ylabel('Number of flights', fontsize=20)\n",
        "ax.set_title('Distribution of Flight distances', fontsize=30)\n",
        "plt.xticks(fontsize=15)\n",
        "plt.yticks(fontsize=15)\n",
        "\n",
        "#statistics of the flight distance\n",
        "avg_distance = flights_df['DISTANCE'].mean()\n",
        "max_distance = flights_df['DISTANCE'].max()\n",
        "min_distance = flights_df['DISTANCE'].min()\n",
        "\n",
        "#Find the airports included in the longest & shortest flights\n",
        "longest_flight = flights_df.loc[flights_df['DISTANCE'] == max_distance]\n",
        "shortest_flight = flights_df.loc[flights_df['DISTANCE'] == min_distance]\n",
        "longest_origin = longest_flight['ORIGIN'].iloc[0]\n",
        "shortest_origin = shortest_flight['ORIGIN'].iloc[0]\n",
        "longest_destination = longest_flight['DESTINATION'].iloc[0]\n",
        "shortest_destination = shortest_flight['DESTINATION'].iloc[0]\n",
        "\n",
        "# Plot vertical lines to show the mean, max, and min\n",
        "ax.axvline(avg_distance, color='blue', linestyle='dashed', linewidth=2, label=f'Avgerage distance: {avg_distance:.2f} miles')\n",
        "ax.axvline(max_distance, color='red', linestyle='dotted', linewidth=2, label=f'Maximum distance:{max_distance:.2f} miles\\nBetween {longest_origin} and {longest_destination}')\n",
        "ax.axvline(min_distance, color='green', linestyle='dashdot', linewidth=2, label=f'Minimum distance:{min_distance:.2f} miles\\nBetween {shortest_origin} and {shortest_destination}')\n",
        "plt.legend(fontsize=20)\n",
        "plt.show()"
      ]
    },
    {
      "cell_type": "code",
      "source": [
        "#Find the airports included in the longest & shortest flights\n",
        "longest_flight = flights_df.loc[flights_df['DISTANCE'] == max_distance]\n",
        "shortest_flight = flights_df.loc[flights_df['DISTANCE'] == min_distance]\n",
        "\n",
        "print(longest_flight)"
      ],
      "metadata": {
        "id": "qBt6t1Ag_eBl"
      },
      "execution_count": null,
      "outputs": []
    },
    {
      "cell_type": "markdown",
      "metadata": {
        "id": "KL_sXAeYNerH"
      },
      "source": [
        "# **2. Analyze number of flights**\n"
      ]
    },
    {
      "cell_type": "markdown",
      "source": [
        "# 2.1 Which is the airport with highest frequency of departures?"
      ],
      "metadata": {
        "id": "rmo-t24NW6BE"
      }
    },
    {
      "cell_type": "code",
      "execution_count": null,
      "metadata": {
        "id": "nUqTlHQBPlwy"
      },
      "outputs": [],
      "source": [
        "departures_count = flights_df.groupby(['ORIGIN']).size().reset_index(name='Departures')\n",
        "print(departures_count)"
      ]
    },
    {
      "cell_type": "code",
      "execution_count": null,
      "metadata": {
        "id": "UrMvo-z_Q7Zy"
      },
      "outputs": [],
      "source": [
        "#plot number of dep. flights for each airport\n",
        "departures_count_arr = departures_count.to_numpy()\n",
        "\n",
        "plt.figure(figsize=(20, 10))\n",
        "plt.bar(departures_count_arr[:,0],departures_count_arr[:,1])\n",
        "plt.ylabel('Number of flights')\n",
        "plt.show()"
      ]
    },
    {
      "cell_type": "code",
      "execution_count": null,
      "metadata": {
        "id": "PtGVXn0JRMpl"
      },
      "outputs": [],
      "source": [
        "#plot number of dep. flights for each airport\n",
        "plt.figure(figsize=(20, 10))\n",
        "sorted_dep_count = departures_count.sort_values(by=['Departures'],ascending=False)\n",
        "sorted_dep_count_arr = sorted_dep_count.to_numpy()\n",
        "\n",
        "plt.figure(figsize=(20, 10))\n",
        "plt.bar(sorted_dep_count_arr[:10,0],sorted_dep_count_arr[:10,1])\n",
        "plt.ylabel('Number of flights',fontsize=20)\n",
        "plt.show()"
      ]
    },
    {
      "cell_type": "markdown",
      "source": [
        "#2.2 Which is the airport with highest frequency of arrivals?"
      ],
      "metadata": {
        "id": "cGGRYGBxW_7L"
      }
    },
    {
      "cell_type": "code",
      "execution_count": null,
      "metadata": {
        "id": "lLpIfodWTDsG"
      },
      "outputs": [],
      "source": [
        "#Count the number of flights reaching each airport\n",
        "arrivals_count = flights_df.groupby(['DESTINATION']).size().reset_index(name='Arrivals')\n",
        "print(arrivals_count)"
      ]
    },
    {
      "cell_type": "code",
      "execution_count": null,
      "metadata": {
        "id": "-XE8D-gfTph4"
      },
      "outputs": [],
      "source": [
        "#plot number of arrival flights for each airport\n",
        "plt.figure(figsize=(20, 10))\n",
        "sorted_arrival_count = arrivals_count.sort_values(by=['Arrivals'],ascending=False)\n",
        "sorted_arrival_count_arr = sorted_arrival_count.to_numpy()\n",
        "\n",
        "plt.figure(figsize=(20, 10))\n",
        "plt.bar(sorted_arrival_count_arr[:10,0],sorted_arrival_count_arr[:10,1])\n",
        "plt.ylabel('Number of flights',fontsize=20)\n",
        "plt.show()"
      ]
    },
    {
      "cell_type": "markdown",
      "source": [
        "# 2.3 Which company has more flights?"
      ],
      "metadata": {
        "id": "q5FjLkDIXDN1"
      }
    },
    {
      "cell_type": "code",
      "execution_count": null,
      "metadata": {
        "id": "SnvELsJkUANj"
      },
      "outputs": [],
      "source": [
        "#Group by the \"Airline\" to count of the number of flights for a single company\n",
        "flights_count_per_operator = flights_df.groupby(['AIRLINE']).size().reset_index(name='Flights')\n",
        "print(flights_count_per_operator)"
      ]
    },
    {
      "cell_type": "markdown",
      "metadata": {
        "id": "ei7i-XRM7C6o"
      },
      "source": [
        "#2.4 Which are the most common routes?"
      ]
    },
    {
      "cell_type": "code",
      "execution_count": null,
      "metadata": {
        "id": "7xs3XF957Env"
      },
      "outputs": [],
      "source": [
        "#Group by origin and destination airports and count the number of flights\n",
        "grouped_df = flights_df.groupby(['ORIGIN', 'DESTINATION']).size().reset_index(name='num_flights_per_route')\n",
        "\n",
        "sorted_df = grouped_df.sort_values('num_flights_per_route', ascending=False)\n",
        "\n",
        "#Print the top 20 routes\n",
        "print(sorted_df.head(20))"
      ]
    },
    {
      "cell_type": "markdown",
      "metadata": {
        "id": "3A8sUmhFUTLc"
      },
      "source": [
        "# **3. Analysis on flight delay**"
      ]
    },
    {
      "cell_type": "markdown",
      "metadata": {
        "id": "cu27U-wV2V1N"
      },
      "source": [
        "#3.1 What is the average duration (planned vs actual) of a flight in USA?"
      ]
    },
    {
      "cell_type": "code",
      "execution_count": null,
      "metadata": {
        "id": "djszLVQJUWW7"
      },
      "outputs": [],
      "source": [
        "# Actual duration\n",
        "mean_actual_duration = flights_df['ACTUAL_ELAPSED_TIME'].mean()\n",
        "print(\"Mean of actual duration:\", int(mean_actual_duration), 'minutes')\n",
        "\n",
        "# Planned duration\n",
        "mean_planned_duration = flights_df['SCHEDULED_ELAPSED_TIME'].mean()\n",
        "print(\"Mean of planned duration:\", int(mean_planned_duration), 'minutes')"
      ]
    },
    {
      "cell_type": "code",
      "execution_count": null,
      "metadata": {
        "id": "gn_0a-VX3NfJ"
      },
      "outputs": [],
      "source": [
        "x1 = flights_df['ACTUAL_ELAPSED_TIME']\n",
        "x2 = flights_df['SCHEDULED_ELAPSED_TIME']\n",
        "count, bins_count = np.histogram(x1[~np.isnan(x1)], bins=100)\n",
        "pdf = count / sum(count)\n",
        "cdf = np.cumsum(pdf)\n",
        "plt.plot(bins_count[1:], cdf, label=\"Actual\")\n",
        "count, bins_count = np.histogram(x2[~np.isnan(x2)], bins=100)\n",
        "pdf = count / sum(count)\n",
        "cdf = np.cumsum(pdf)\n",
        "plt.plot(bins_count[1:], cdf, label=\"Scheduled\")\n",
        "plt.xlabel('Time [min]', fontsize=16)\n",
        "plt.ylabel('%', fontsize=16)\n",
        "plt.legend()\n",
        "plt.show()"
      ]
    },
    {
      "cell_type": "markdown",
      "metadata": {
        "id": "vlA-4WcD4LX-"
      },
      "source": [
        "# 3.2 How much longer than expected each flight took? on average, and the maximum one"
      ]
    },
    {
      "cell_type": "code",
      "execution_count": null,
      "metadata": {
        "id": "T31u1PzA4iVv"
      },
      "outputs": [],
      "source": [
        "diff_time = np.array(flights_df['ACTUAL_ELAPSED_TIME'] - flights_df['SCHEDULED_ELAPSED_TIME'])\n",
        "\n",
        "plt.figure(figsize=(20, 10))\n",
        "plt.hist(diff_time, bins=75, color='grey', edgecolor='lightgrey', density= True)\n",
        "plt.xlabel('Difference (minutes)', fontsize=1)\n",
        "plt.ylabel('Frequency', fontsize = 16)\n",
        "plt.title('Expected vs actual flight time', fontsize=20)\n",
        "plt.xticks(fontsize=15)\n",
        "plt.yticks(fontsize=15)\n",
        "plt.show()"
      ]
    },
    {
      "cell_type": "code",
      "execution_count": null,
      "metadata": {
        "id": "1T8IPBZR5WNG"
      },
      "outputs": [],
      "source": [
        "avg_diff = round(diff_time.mean(),2)\n",
        "max_diff = round(diff_time.max(),2)\n",
        "\n",
        "print('Mean difference between actual and planned durations is', avg_diff, 'minutes.')\n",
        "print('Maximum difference between actual and planned durations is', max_diff, 'minutes.')\n",
        "\n",
        "\n",
        "plt.figure(figsize=(20, 10))\n",
        "plt.hist(diff_time, bins=75, color='grey', edgecolor='lightgrey', density= True)\n",
        "plt.xlabel('Difference (minutes)', fontsize=1)\n",
        "plt.ylabel('Frequency', fontsize = 16)\n",
        "plt.title('Expected vs actual flight time', fontsize=20)\n",
        "plt.xticks(fontsize=15)\n",
        "plt.yticks(fontsize=15)\n",
        "plt.axvline(avg_diff, color='green', linestyle='dashed', linewidth=2, label=f'Mean: {format(avg_distance, \".2f\")} minutes')\n",
        "plt.axvline(max_diff, color='red', linestyle='dashed', linewidth=2, label=f'Maximum: {format(max_distance, \".2f\")} minutes')\n",
        "plt.legend(fontsize = 20)\n",
        "plt.show()"
      ]
    },
    {
      "cell_type": "markdown",
      "metadata": {
        "id": "GKrhq2ohdfv5"
      },
      "source": [
        "# 3.3 What is the percentage of flights that arrived earlier?"
      ]
    },
    {
      "cell_type": "code",
      "execution_count": null,
      "metadata": {
        "id": "uh1rIIoQdu7e"
      },
      "outputs": [],
      "source": [
        "num_ahead = (flights_df['ARRIVAL_DELAY'] < 0).sum()\n",
        "pct_ahead = num_ahead / len(flights_df) * 100\n",
        "print(num_ahead, \"flights out of \",len(flights_df),\" are ahead of time, i.e., \" \"{:.2f}%.\".format(pct_ahead))"
      ]
    },
    {
      "cell_type": "markdown",
      "metadata": {
        "id": "pNkuOZztgSvN"
      },
      "source": [
        "# 3.4 Is there a relationship between departure and arrival delay?"
      ]
    },
    {
      "cell_type": "code",
      "execution_count": null,
      "metadata": {
        "id": "Qq7ILNL4gTpk"
      },
      "outputs": [],
      "source": [
        "correlationMatrix = flights_df.corr()\n",
        "\n",
        "mask = np.triu(np.ones_like(correlationMatrix, dtype=bool))\n",
        "f, ax = plt.subplots(figsize=(11, 9))\n",
        "colorPalette = sns.diverging_palette(240, 10)\n",
        "\n",
        "# Draw the heatmap\n",
        "sns.heatmap(correlationMatrix, annot=True, cmap=colorPalette, vmax=1, vmin=-1, center=0, linewidths=.15)"
      ]
    },
    {
      "cell_type": "code",
      "execution_count": null,
      "metadata": {
        "id": "zqxlBhCvhI-q"
      },
      "outputs": [],
      "source": [
        "plt.figure(figsize=(8, 6))\n",
        "plt.scatter(flights_df['DEPARTURE_DELAY'], flights_df['ARRIVAL_DELAY'], color = 'steelblue')\n",
        "plt.xlabel('Departure delay [min]', fontsize = 15)\n",
        "plt.ylabel('Arrival delay [min]', fontsize = 15)\n",
        "plt.show()"
      ]
    },
    {
      "cell_type": "markdown",
      "metadata": {
        "id": "1EqSJh2wislX"
      },
      "source": [
        "#3.5 Find the airport with highest departure delay and derive statistics on such delay."
      ]
    },
    {
      "cell_type": "code",
      "execution_count": null,
      "metadata": {
        "id": "-UzJWyBAjGuQ"
      },
      "outputs": [],
      "source": [
        "max_delay = flights_df['DEPARTURE_DELAY'].max()\n",
        "flight_with_highest_dep_delay = flights_df[flights_df['DEPARTURE_DELAY']==max_delay]\n",
        "print(flight_with_highest_dep_delay)"
      ]
    },
    {
      "cell_type": "code",
      "source": [
        "dataset_of_FAT = flights_df[flights_df['ORIGIN'] == 'FAT']\n",
        "\n",
        "plt.figure(figsize=(20, 10))\n",
        "plt.hist(dataset_of_FAT['DEPARTURE_DELAY'], bins=100, color='grey', edgecolor='lightgrey', density= True)\n",
        "plt.xlabel('Difference (minutes)', fontsize=1)\n",
        "plt.ylabel('Frequency', fontsize = 16)\n",
        "plt.title('Expected vs actual flight time', fontsize=20)\n",
        "plt.xticks(fontsize=15)\n",
        "plt.yticks(fontsize=15)\n",
        "plt.show()\n",
        "\n",
        "print('Mean delay',dataset_of_FAT['DEPARTURE_DELAY'].mean(),' min')"
      ],
      "metadata": {
        "id": "-KR4ICKYYtNU"
      },
      "execution_count": null,
      "outputs": []
    },
    {
      "cell_type": "markdown",
      "metadata": {
        "id": "6Vte6mJXnK5W"
      },
      "source": [
        "# **Analysis on flight cancellation**\n"
      ]
    },
    {
      "cell_type": "markdown",
      "metadata": {
        "id": "CuH956nOnOu4"
      },
      "source": [
        "# 4.1 Which is the percentage of cancelled flights in USA?"
      ]
    },
    {
      "cell_type": "code",
      "execution_count": null,
      "metadata": {
        "id": "yCpGFebMnwwq"
      },
      "outputs": [],
      "source": [
        "cancelled_flight = flights_df[flights_df['CANCELLED']==1]\n",
        "print(\"The amount of cancelled flight is\", cancelled_flight['CANCELLED'].count(),\"out of \",len(flights_df),\" \" )\n",
        "\n",
        "perc = cancelled_flight['CANCELLED'].count()*100/len(flights_df)\n",
        "print(\"The percentage of cancelled flights is\", round(perc,2) ,\"%\")\n"
      ]
    },
    {
      "cell_type": "code",
      "execution_count": 29,
      "metadata": {
        "id": "Ac6cqnMuoWRG"
      },
      "outputs": [],
      "source": [
        "#re-upload the dataset\n",
        "flights_df = pd.read_csv('Flights_Jan_cropped.csv', delimiter=\",\", header=0)"
      ]
    },
    {
      "cell_type": "code",
      "execution_count": null,
      "metadata": {
        "id": "pvUYLV9LoZfP"
      },
      "outputs": [],
      "source": [
        "cancelled_flight = flights_df[flights_df['CANCELLED']==1]\n",
        "print(\"The amount of cancelled flight is\", cancelled_flight['CANCELLED'].count(),\"out of \",len(flights_df),\" \" )\n",
        "\n",
        "perc = cancelled_flight['CANCELLED'].count()*100/len(flights_df)\n",
        "print(\"The percentage of cancelled flights is\", round(perc,2) ,\"%\")\n"
      ]
    },
    {
      "cell_type": "markdown",
      "metadata": {
        "id": "6Fk2pnuUqIX6"
      },
      "source": [
        "#4.2 Which airport is more subject to flight cancellation?"
      ]
    },
    {
      "cell_type": "code",
      "execution_count": null,
      "metadata": {
        "id": "8pNOCPIcqPBS"
      },
      "outputs": [],
      "source": [
        "dataset_of_canc_flights = flights_df[flights_df[\"CANCELLED\"]==1]\n",
        "\n",
        "cancel_flight_per_airport = dataset_of_canc_flights.groupby(\"ORIGIN\")[\"ORIGIN\"].count().reset_index(name='Canc_Flights')\n",
        "\n",
        "print(cancel_flight_per_airport)"
      ]
    },
    {
      "cell_type": "code",
      "execution_count": null,
      "metadata": {
        "id": "F656lXKsrYYV"
      },
      "outputs": [],
      "source": [
        "sorted_cancel_flight_per_airport = cancel_flight_per_airport.sort_values(by=['Canc_Flights'],ascending=False)\n",
        "sorted_cancel_flight_per_airport = sorted_cancel_flight_per_airport.to_numpy()\n",
        "\n",
        "plt.figure(figsize=(20, 10))\n",
        "plt.bar(sorted_cancel_flight_per_airport[:10,0],sorted_cancel_flight_per_airport[:10,1])\n",
        "plt.ylabel('Number of cancelled flights',fontsize=20)\n",
        "plt.show()\n"
      ]
    },
    {
      "cell_type": "markdown",
      "metadata": {
        "id": "gaC3lxWhsG4Y"
      },
      "source": [
        "#4.3 Is there a day with remarkably high  number of cancelled flights?"
      ]
    },
    {
      "cell_type": "code",
      "execution_count": null,
      "metadata": {
        "id": "DSk3esYxsGPv"
      },
      "outputs": [],
      "source": [
        "flights_df['SCHEDULED_DEPARTURE_TIME'] = pd.to_datetime(flights_df['SCHEDULED_DEPARTURE_TIME'])\n",
        "flights_df['SCHEDULED_DEPARTURE_TIME'] = pd.to_datetime(flights_df['SCHEDULED_DEPARTURE_TIME'], format='%Y-%m-%d %H:%M:%S')\n",
        "\n",
        "cancelled_by_day = flights_df.groupby(flights_df['SCHEDULED_DEPARTURE_TIME'].dt.date)['CANCELLED'].sum()\n",
        "x_labels = [date.strftime('%b %d') for date in cancelled_by_day.index]\n",
        "\n",
        "max_cancelled_day = cancelled_by_day.idxmax()\n",
        "max_cancelled_flights = cancelled_by_day[max_cancelled_day]\n",
        "print(\"The day with the highest number of cancelled flights is:\", max_cancelled_day, \"with\", max_cancelled_flights, \"cancelled flights.\")\n"
      ]
    },
    {
      "cell_type": "markdown",
      "metadata": {
        "id": "EUMCYEpshZDG"
      },
      "source": [
        "# **Decision task**"
      ]
    },
    {
      "cell_type": "markdown",
      "metadata": {
        "id": "K1L-O1XiiPe2"
      },
      "source": [
        "Possible analyses:\n",
        "\n",
        "1.   Analysis of the flows\n",
        "2.   Analysis of delays\n",
        "3.   Analysis of the cost of land\n",
        "4.   Analysis of the weather\n",
        "5.   Analysis of airport proximity"
      ]
    },
    {
      "cell_type": "markdown",
      "metadata": {
        "id": "jDVv3HNnqDT6"
      },
      "source": [
        "A high flight number, both in terms of arrivals and departures, makes a zone more appealing for a new airport as the location is likely to be in a favorable geographical position in terms of weather, as studies on existing airports in the region have already been conducted, or the zone and nearby cities are likely to be appealing for visitors (either business or vacation), or it may be in a strategic position to allow stopovers.\n",
        "\n"
      ]
    },
    {
      "cell_type": "code",
      "execution_count": 34,
      "metadata": {
        "id": "lRZWnhoei6al"
      },
      "outputs": [],
      "source": [
        "flights_df = flights_df.dropna().reset_index(drop=True)"
      ]
    },
    {
      "cell_type": "code",
      "execution_count": null,
      "metadata": {
        "id": "qhgSQYGliA_y"
      },
      "outputs": [],
      "source": [
        "# Count the number of arrivals and departures for each airport\n",
        "count_arr = flights_df[\"DESTINATION\"].value_counts()\n",
        "count_dep = flights_df[\"ORIGIN\"].value_counts()\n",
        "df = pd.concat([count_arr, count_dep], axis=1)\n",
        "\n",
        "print(df)"
      ]
    },
    {
      "cell_type": "code",
      "source": [
        "df[\"TOTAL\"] = df[\"DESTINATION\"]+df[\"ORIGIN\"]\n",
        "df = df.reset_index()\n",
        "df = df.rename(columns={'index': 'AIRPORT'})\n",
        "\n",
        "print(df)"
      ],
      "metadata": {
        "id": "YfT5OVhH9Yk9"
      },
      "execution_count": null,
      "outputs": []
    },
    {
      "cell_type": "code",
      "source": [
        "merged_dataset = pd.merge(df, airports_df, on='AIRPORT')\n",
        "merged_dataset = merged_dataset[[\"AIRPORT\", \"TOTAL\", \"LATITUDE\", \"LONGITUDE\"]]\n",
        "merged_dataset = merged_dataset.sort_values(by='TOTAL', ascending=False)\n",
        "merged_dataset['Total Scaled'] = merged_dataset['TOTAL']/merged_dataset['TOTAL'].max()\n",
        "\n",
        "print(merged_dataset)"
      ],
      "metadata": {
        "id": "3w8Ybs5P9nsJ"
      },
      "execution_count": null,
      "outputs": []
    },
    {
      "cell_type": "code",
      "source": [
        "map_airports = folium.Map(location=[40.693943, -73.985880], zoom_start=4)\n",
        "for index, row in merged_dataset.iterrows():\n",
        "    folium.CircleMarker(location=[row['LATITUDE'], row['LONGITUDE']], radius=row['Total Scaled']*30,\n",
        "                        color='#6472F9', fill=True, fill_color='#6472F9').add_to(map_airports)\n",
        "display(map_airports)"
      ],
      "metadata": {
        "id": "knGnWToJ91BP"
      },
      "execution_count": null,
      "outputs": []
    },
    {
      "cell_type": "code",
      "execution_count": null,
      "metadata": {
        "id": "LTOGW3eCq5rN"
      },
      "outputs": [],
      "source": [
        "print('Top 10 Airports by flights density')\n",
        "print(merged_dataset[\"AIRPORT\"].head(10))\n",
        "print('\\nWorst 10 Airports by flights density:')\n",
        "print(merged_dataset[\"AIRPORT\"].tail(10))"
      ]
    },
    {
      "cell_type": "markdown",
      "metadata": {
        "id": "ICV1I6FTrP8l"
      },
      "source": [
        "A second parameter taken into account is the sum of the total flight delays, intended as the sum of arrival delay (which directly impact on the customers) and departure delay (which still is an indicator of bad performances and overcrowding for the airport).\n",
        "\n",
        "Flight delay analysis is a measure of the efficiency and quality of an airport. It is essential to measure flight delays as they can have a significant impact on both airlines and passengers, leading to inconvenience, missed connections, and additional costs. Higher delays imply poorer performance and quality of an airport.\n",
        "\n"
      ]
    },
    {
      "cell_type": "code",
      "execution_count": null,
      "metadata": {
        "id": "Fr3jxBjXrOSD"
      },
      "outputs": [],
      "source": [
        "merged_df = pd.merge(flights_df, airports_df, how='inner', left_on='ORIGIN', right_on='AIRPORT')\n",
        "merged_df = pd.merge(merged_df, airports_df, how='inner', left_on='DESTINATION', right_on='AIRPORT', suffixes=('_origin', '_destination'))\n",
        "\n",
        "grouped_df = merged_df.groupby(['AIRPORT_origin', 'LATITUDE_origin', 'LONGITUDE_origin']).agg({'DEPARTURE_DELAY': 'sum', 'ARRIVAL_DELAY': 'sum'}).reset_index()\n",
        "grouped_df.rename(columns={'AIRPORT_origin': 'AIRPORT', 'LATITUDE_origin': 'LATITUDE', 'LONGITUDE_origin': 'LONGITUDE'}, inplace=True)\n",
        "\n",
        "max_delay = grouped_df['ARRIVAL_DELAY'].max() + grouped_df['DEPARTURE_DELAY'].max()\n",
        "grouped_df['Total_Delay'] = (grouped_df['ARRIVAL_DELAY'] + grouped_df['DEPARTURE_DELAY'])\n",
        "grouped_df['Total_Delay'] = grouped_df['Total_Delay'] / grouped_df['Total_Delay'].max()\n",
        "\n",
        "map_airports = folium.Map(location=[40.693943, -73.985880], zoom_start=4)\n",
        "\n",
        "for index, row in grouped_df.iterrows():\n",
        "        folium.CircleMarker(location=[row['LATITUDE'], row['LONGITUDE']], radius=row['Total_Delay']*30,\n",
        "                            color='#6472F9', fill=True, fill_color='#6472F9').add_to(map_airports)\n",
        "display(map_airports)\n"
      ]
    },
    {
      "cell_type": "code",
      "execution_count": null,
      "metadata": {
        "id": "zZcapoQNrqkt"
      },
      "outputs": [],
      "source": [
        "print('Top 10 Airports with highest delay:')\n",
        "print(grouped_df.sort_values(by=['Total_Delay'], ascending=False).head(10))"
      ]
    },
    {
      "cell_type": "markdown",
      "metadata": {
        "id": "RzpRNHHrsLvF"
      },
      "source": [
        "A third parameter to be considered can the cost of land per acre in the area where the airport will be built.\n",
        "The level of granularity we considered for that decision is the \"State\" level.\n",
        "\n",
        "The map shows the most expensive in red and the most cheap in green. Additionally, we maintain a dataset that includes the five most expensive areas and the five most cheap for reference.\n",
        "\n",
        "*Data source: https://www.landsearch.com/price*"
      ]
    },
    {
      "cell_type": "code",
      "execution_count": null,
      "metadata": {
        "id": "SqGiTuBgsY5c"
      },
      "outputs": [],
      "source": [
        "state_names = {\n",
        "    'AL': 'Alabama', 'AK': 'Alaska', 'AZ': 'Arizona', 'AR': 'Arkansas', 'CA': 'California',\n",
        "    'CO': 'Colorado', 'CT': 'Connecticut', 'DE': 'Delaware', 'FL': 'Florida', 'GA': 'Georgia',\n",
        "    'HI': 'Hawaii', 'ID': 'Idaho', 'IL': 'Illinois', 'IN': 'Indiana', 'IA': 'Iowa', 'KS': 'Kansas',\n",
        "    'KY': 'Kentucky', 'LA': 'Louisiana', 'ME': 'Maine', 'MD': 'Maryland', 'MA': 'Massachusetts',\n",
        "    'MI': 'Michigan', 'MN': 'Minnesota', 'MS': 'Mississippi', 'MO': 'Missouri', 'MT': 'Montana',\n",
        "    'NE': 'Nebraska', 'NV': 'Nevada', 'NH': 'New Hampshire', 'NJ': 'New Jersey', 'NM': 'New Mexico',\n",
        "    'NY': 'New York', 'NC': 'North Carolina', 'ND': 'North Dakota', 'OH': 'Ohio', 'OK': 'Oklahoma',\n",
        "    'OR': 'Oregon', 'PA': 'Pennsylvania', 'RI': 'Rhode Island', 'SC': 'South Carolina',\n",
        "    'SD': 'South Dakota', 'TN': 'Tennessee', 'TX': 'Texas', 'UT': 'Utah', 'VT': 'Vermont',\n",
        "    'VA': 'Virginia', 'WA': 'Washington', 'WV': 'West Virginia', 'WI': 'Wisconsin', 'WY': 'Wyoming'\n",
        "}\n",
        "\n",
        "land_costs = {'AL': 16039, 'AK': 10295, 'AZ': 20070, 'AR': 14174, 'CA': 23687, 'CO': 9792,\n",
        "              'CT': 30694, 'DE': 78258, 'FL': 64690, 'GA': 22607, 'HI': 80355, 'ID': 19940,\n",
        "              'IL': 36882, 'IN': 28759, 'IA': 22053, 'KS': 7352, 'KY': 10688, 'LA': 14211,\n",
        "              'ME': 8903, 'MD': 34637, 'MA': 45591, 'MI': 14203, 'MN': 18281, 'MS': 9014,\n",
        "              'MO': 12624, 'MT': 7756, 'NE': 10385, 'NV': 15923, 'NH': 18315, 'NJ': 92181,\n",
        "              'NM': 4988, 'NY': 14772, 'NC': 25626, 'ND': 3993, 'OH': 23129, 'OK': 6730,\n",
        "              'OR': 11572, 'PA': 20772, 'RI': 75341, 'SC': 27583, 'SD': 14134, 'TN': 12074,\n",
        "              'TX': 17935, 'UT': 30149, 'VT': 10696, 'VA': 16015, 'WA': 19604, 'WV': 11561,\n",
        "              'WI': 17891, 'WY': 14427}\n",
        "\n",
        "# create a pandas dataframe from the land_costs dictionary\n",
        "df = pd.DataFrame.from_dict(land_costs, orient='index', columns=['LandCosts'])\n",
        "\n",
        "# add a column for the state abbreviations, which will be used as the location identifier\n",
        "df.reset_index(inplace=True)\n",
        "df.rename(columns={'index': 'State'}, inplace=True)\n",
        "df_sorted = df.sort_values(by='LandCosts', ascending=True)\n",
        "\n",
        "# create the choropleth map\n",
        "fig = px.choropleth(df,\n",
        "                    locations='State',\n",
        "                    locationmode='USA-states',\n",
        "                    color='LandCosts',\n",
        "                    scope='usa',\n",
        "                    hover_name='State',\n",
        "                    color_continuous_scale='Viridis',\n",
        "                    range_color=[df['LandCosts'].min(), df['LandCosts'].max()],\n",
        "                    labels={'LandCosts': 'Land Costs ($)'})\n",
        "\n",
        "\n",
        "fig.update_layout(title_text='Average land cost per acre at state-level',\n",
        "                  title_font_size=30,\n",
        "                  title_font_color='black',\n",
        "                  title_x=0.45,\n",
        "                  width=800,\n",
        "                  height=500)\n",
        "fig.show()\n",
        "\n",
        "top_5_highest_cost = df_sorted.nlargest(5, 'LandCosts')\n",
        "top_5_lowest_cost = df_sorted.nsmallest(5, 'LandCosts')\n",
        "print('Top 5 States with the highest cost:')\n",
        "print(top_5_highest_cost['State'].map(state_names).to_string(index=False))\n",
        "print('\\nTop 5 States with the lowest cost:')\n",
        "print(top_5_lowest_cost['State'].map(state_names).to_string(index=False))"
      ]
    },
    {
      "cell_type": "markdown",
      "metadata": {
        "id": "SpsoMjmgspkA"
      },
      "source": [
        "A fourth parameter can be the weather condition, which encompasses factors such as precipitation, temperature, and wind speed. Focusing on precipitation (as potentially higher affecting the flights) we have the following map\n",
        "\n",
        "*Data source: https://www.currentresults.com/Weather/US/average-annual-state-temperatures.php*"
      ]
    },
    {
      "cell_type": "code",
      "execution_count": null,
      "metadata": {
        "id": "EFEOBjTxs7D7"
      },
      "outputs": [],
      "source": [
        "import json\n",
        "with open('us-states.json') as f:\n",
        "   counties = json.load(f)\n",
        "\n",
        "\n",
        "df = pd.read_csv(\"NaturalHazard.csv\", delimiter=',',dtype={\"State\": str})\n",
        "df = df[['State','Station.ID', 'Milli­metres']]\n",
        "df['Station.ID'] = df['Station.ID'].str.strip()\n",
        "df = df.sort_values(by='Milli­metres', ascending=True)\n",
        "\n",
        "\n",
        "fig = px.choropleth(df,\n",
        "                    locations =\"Station.ID\",\n",
        "                    locationmode='USA-states',\n",
        "                    color='Milli­metres',\n",
        "                    scope= \"usa\",\n",
        "                    hover_name='State',\n",
        "                    color_continuous_scale=\"Viridis\",\n",
        "                    labels={'Millimiters'},\n",
        "                    range_color=[df['Milli­metres'].min(), df['Milli­metres'].max()]\n",
        "                    )\n",
        "\n",
        "fig.update_layout(\n",
        "      title_text = 'Average millimeters of rain per year',\n",
        "      title_font_size = 30,\n",
        "      title_font_color=\"black\",\n",
        "      title_x=0.45,\n",
        "      width=800,\n",
        "      height=500\n",
        "         )\n",
        "fig.show()\n",
        "\n"
      ]
    },
    {
      "cell_type": "code",
      "execution_count": null,
      "metadata": {
        "id": "2sKpQ_ORs8S-"
      },
      "outputs": [],
      "source": [
        "top10_rain = df.nlargest(10, 'Milli­metres')\n",
        "print('Top 10 States with the highest millimetres of rain per year:')\n",
        "print(top10_rain[\"State\"].to_string(index=False))"
      ]
    },
    {
      "cell_type": "markdown",
      "metadata": {
        "id": "_j_geYBVvAwc"
      },
      "source": [
        "A fifth parameter in selecting a potential new airport location can be the proximity to other existing airports. This analysis is more granular, taking into account the potential issues that may arise from having two airports too close together, such as overlapping flight departures, congestion, and delays. Therefore, it is recommended to place the new airport at least on the other side of the city to avoid these issues and ensure smooth operations. The following graphs shows the airports locations and the centroid of the geographical coordinates per each state."
      ]
    },
    {
      "cell_type": "code",
      "execution_count": null,
      "metadata": {
        "id": "1Qcm09WpvWQO"
      },
      "outputs": [],
      "source": [
        "import geopy\n",
        "import geopy.distance\n",
        "from geopy.geocoders import Nominatim\n",
        "from geopy.distance import geodesic\n",
        "\n",
        "airports_df[[\"NAME\",\"STATE\"]] = airports_df.DISPLAY_AIRPORT_CITY_NAME_FULL.str.split(\",\",expand=True)\n",
        "\n",
        "list = airports_df[['AIRPORT','LATITUDE','LONGITUDE','STATE']].sort_values(['STATE','AIRPORT'], ascending=True).to_numpy().tolist()\n",
        "\n",
        "source = []\n",
        "target = []\n",
        "km = []\n",
        "miles = []\n",
        "state = []\n",
        "\n",
        "for i in list:\n",
        "  for j in list[1:]:\n",
        "    if i[3]==j[3] and i[0] != j[0]:\n",
        "        source.append(i[0])\n",
        "        target.append(j[0])\n",
        "        km.append(float(geopy.distance.geodesic((i[1],i[2]), (j[1],j[2])).km))\n",
        "        miles.append(float(geopy.distance.geodesic((i[1],i[2]), (j[1],j[2])).miles))\n",
        "        state.append(i[3])\n",
        "\n",
        "state_x = np.array(state)\n",
        "state_x = np.unique(state_x)\n",
        "\n",
        "df = pd.DataFrame({'SOURCE': source,\n",
        "                   'TARGET': target,\n",
        "                   'KM': km,\n",
        "                   'MILES': miles,\n",
        "                   'STATE': state})\n",
        "\n",
        "!pip install basemap\n",
        "from mpl_toolkits.basemap import Basemap\n",
        "\n",
        "fig = plt.figure(figsize=(20,10))\n",
        "\n",
        "map = Basemap(llcrnrlon=-119,llcrnrlat=22,urcrnrlon=-64,urcrnrlat=49,projection='lcc',lat_1=32,lat_2=45,lon_0=-95)\n",
        "map.shadedrelief()\n",
        "map.drawcoastlines()\n",
        "map.drawcountries(linewidth = 3)\n",
        "map.drawstates(color='0.3')\n",
        "\n",
        "for index, (code, y,x) in airports_df[['AIRPORT', 'LATITUDE', 'LONGITUDE']].iterrows():\n",
        "    x, y = map(x, y)\n",
        "    map.plot(x, y, marker='o', markersize = 6, markeredgewidth = 1, color = 'red')\n",
        "\n",
        "def centeroidnp(arr):\n",
        "    length = arr.shape[0]\n",
        "    sum_x = np.sum(arr[:, 0])\n",
        "    sum_y = np.sum(arr[:, 1])\n",
        "    return sum_x/length, sum_y/length\n",
        "\n",
        "for i in state_x:\n",
        "\n",
        "  df_state = airports_df[airports_df['STATE'].str.strip()==str(i).strip()]\n",
        "  point_list = df_state[['LATITUDE','LONGITUDE']].to_numpy()\n",
        "  latitude, longitude = centeroidnp(point_list)\n",
        "  x1, y1 = map(longitude,latitude)\n",
        "  map.plot(x1, y1, marker='D', markersize = 15, color = 'blue', markeredgecolor='k')\n",
        "\n",
        "plt.show()"
      ]
    },
    {
      "cell_type": "markdown",
      "metadata": {
        "id": "kphUddTcNnJB"
      },
      "source": [
        "Analyzing the traffic and delays, a promising area to place a new airport seems to be Chicago. The two main airports (MDW and ORD) of the city seem to have difficulties in handling the flows of flights and have a high demand.\n",
        "\n",
        " The analysis of flows, cancellations and delays revealed that\n",
        "*   Illinois is the 4th state with the highest flights demand\n",
        "*   The maximum number of cancelled flights with cancellation code 'A' or 'C' is observed in ORD airport\n",
        "*   The percentages of delayed flights in ORD and MDW are close to the maximum value of the dataset\n",
        "*   The maximum number of highly delayed flights is observed in ORD airport\n",
        "\n",
        "\n",
        "Illinois is the 4th state with the highest flights demand. As the demand is high it might be assumed that building a new airport there would be economically sustainable. Indeed, many flights could potentially be performed from/to that new airport."
      ]
    },
    {
      "cell_type": "markdown",
      "metadata": {
        "id": "wtj18ogOPoRk"
      },
      "source": [
        "Expected capacity of the new airport in Chicago.\n",
        "\n",
        "The elements considered in this analysis are:\n",
        "* The size of the two existing airports in Chicago and their expected growth\n",
        "* Their cancelled flights with cancellation code 'A' or 'C'\n",
        "* Their flights delayed for more than 45 minutes\n",
        "\n",
        "> To determine the minimum capacity of the new airport,  first consider the sum of the cancelled flights with cancellation code A and C, and the flights delayed by more than 45 minutes.\n",
        "\\\n",
        "\\\n",
        "This sum represents the flights that could be transferred from the existing airports to the new one. The objective would be to improve the performances of the operations of the existing airports and to avoid further cancellations and/or delays.\n",
        "\n",
        "The assumption is made that 45 minutes of delay represents the starting point of operational problems in executing and planning activities of flights."
      ]
    },
    {
      "cell_type": "code",
      "execution_count": 52,
      "metadata": {
        "id": "kkD1A9UpQQTx"
      },
      "outputs": [],
      "source": [
        "flights_ORD = flights_df[flights_df['ORIGIN']=='ORD'].reset_index(drop=True)\n",
        "flights_MDW = flights_df[flights_df['ORIGIN']=='MDW'].reset_index(drop=True)\n",
        "chicago_flights = pd.concat([flights_ORD, flights_MDW], axis=0).reset_index(drop=True)"
      ]
    },
    {
      "cell_type": "code",
      "execution_count": null,
      "metadata": {
        "id": "Rp9bR3H41wHG"
      },
      "outputs": [],
      "source": [
        "print(flights_ORD)"
      ]
    },
    {
      "cell_type": "code",
      "execution_count": null,
      "metadata": {
        "id": "LMvB1y4Z1OLo"
      },
      "outputs": [],
      "source": [
        "print(flights_MDW)"
      ]
    },
    {
      "cell_type": "code",
      "execution_count": null,
      "metadata": {
        "id": "kn6HshtM1PC_"
      },
      "outputs": [],
      "source": [
        "print(chicago_flights)"
      ]
    },
    {
      "cell_type": "code",
      "execution_count": null,
      "metadata": {
        "id": "94jQloXMOekT"
      },
      "outputs": [],
      "source": [
        "CHI_lat = 41.881832\n",
        "CHI_long =  -87.623177\n",
        "\n",
        "map = folium.Map(location=[CHI_lat, CHI_long], zoom_start=6, control_scale='True', max_zoom=20, min_zoom=2, max_bounds=True)\n",
        "\n",
        "for index, row in airports_df.iterrows():\n",
        "    str_air = row['AIRPORT'] + ' (' + row['DISPLAY_AIRPORT_NAME'] + ')'+' (' + row['DISPLAY_AIRPORT_CITY_NAME_FULL'] + ')'\n",
        "    folium.Marker(location=[row['LATITUDE'], row['LONGITUDE']], popup= str_air).add_to(map)\n",
        "\n",
        "# Add the circle in Chicago representing the area of influence of ORD and MDW airports\n",
        "folium.Circle(location=[CHI_lat, CHI_long], radius=50000, color='red', fill=True, fill_opacity=0.2).add_to(map)\n",
        "#radius = 50 km\n",
        "map"
      ]
    },
    {
      "cell_type": "code",
      "execution_count": 64,
      "metadata": {
        "colab": {
          "base_uri": "https://localhost:8080/"
        },
        "id": "Efw-CveR786i",
        "outputId": "4a3e5b2f-5eaa-4faa-ace9-43d719984690"
      },
      "outputs": [
        {
          "output_type": "stream",
          "name": "stdout",
          "text": [
            "1228 flights out of  9131  in Chicago have a delay of more than 45 min\n"
          ]
        }
      ],
      "source": [
        "#let's consider an unacceptable delay of >45 min\n",
        "delay_flights_CHI = chicago_flights[chicago_flights['DEPARTURE_DELAY']>45].reset_index(drop=True)\n",
        "print(len(delay_flights_CHI), \"flights out of \",len(chicago_flights),\" in Chicago have a delay of more than 45 min\")"
      ]
    },
    {
      "cell_type": "code",
      "execution_count": null,
      "metadata": {
        "id": "HL9cTAnPDBSe"
      },
      "outputs": [],
      "source": [
        "canc_flights_MDW = cancel_flight_per_airport[cancel_flight_per_airport['ORIGIN'] == 'MDW']\n",
        "canc_flights_ORD = cancel_flight_per_airport[cancel_flight_per_airport['ORIGIN'] == 'ORD']\n",
        "canc_flights_CHI = int(canc_flights_MDW['Canc_Flights']) + int(canc_flights_ORD['Canc_Flights'])\n",
        "\n",
        "print(canc_flights_MDW)\n",
        "print(canc_flights_ORD)\n",
        "print(canc_flights_CHI, \"flights out of \",len(chicago_flights),\" in Chicago have been cancelled\")"
      ]
    },
    {
      "cell_type": "code",
      "execution_count": null,
      "metadata": {
        "id": "JHE46zQCEpxx"
      },
      "outputs": [],
      "source": [
        "print(\"The new airport in Chicago should accomodate for at least \",canc_flights_CHI+len(delay_flights_CHI),\"flights per month, i.e., a capacity similar to MDW\")"
      ]
    }
  ],
  "metadata": {
    "colab": {
      "provenance": []
    },
    "kernelspec": {
      "display_name": "Python 3",
      "name": "python3"
    },
    "language_info": {
      "name": "python"
    }
  },
  "nbformat": 4,
  "nbformat_minor": 0
}